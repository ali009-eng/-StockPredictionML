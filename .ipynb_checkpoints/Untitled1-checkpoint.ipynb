{
 "cells": [
  {
   "cell_type": "code",
   "execution_count": 1,
   "id": "0d9a0db9-3380-4473-834f-b6fbff423cde",
   "metadata": {},
   "outputs": [
    {
     "name": "stdout",
     "output_type": "stream",
     "text": [
      "Writing app.py\n"
     ]
    }
   ],
   "source": [
    "%%writefile app.py\n",
    "from flask import Flask, request, render_template_string\n",
    "import joblib\n",
    "import datetime\n",
    "\n",
    "app = Flask(__name__)\n",
    "\n",
    "TEMPLATE = \"\"\"\n",
    "<!DOCTYPE html>\n",
    "<html lang=\"en\">\n",
    "<head>\n",
    "  <meta charset=\"UTF-8\">\n",
    "  <title>Stock Price Predictor</title>\n",
    "  <meta name=\"viewport\" content=\"width=device-width, initial-scale=1\">\n",
    "  <link href=\"https://cdn.jsdelivr.net/npm/bootstrap@5.3.3/dist/css/bootstrap.min.css\" rel=\"stylesheet\">\n",
    "  <style>\n",
    "    body {\n",
    "      background: #f8f9fa;\n",
    "      display: flex;\n",
    "      justify-content: center;\n",
    "      align-items: center;\n",
    "      height: 100vh;\n",
    "    }\n",
    "    .card {\n",
    "      padding: 30px;\n",
    "      box-shadow: 0 10px 25px rgba(0,0,0,0.1);\n",
    "      border-radius: 16px;\n",
    "      background: white;\n",
    "      max-width: 450px;\n",
    "      width: 100%;\n",
    "    }\n",
    "  </style>\n",
    "</head>\n",
    "<body>\n",
    "  <div class=\"card\">\n",
    "    <h2 class=\"mb-4 text-center\">Stock Price Predictor</h2>\n",
    "    <form method=\"post\">\n",
    "      <div class=\"mb-3\">\n",
    "        <label for=\"stock\" class=\"form-label\">Select Stock</label>\n",
    "        <select name=\"stock\" class=\"form-select\" id=\"stock\" required>\n",
    "          {% for s in stocks %}\n",
    "          <option value=\"{{ s }}\">{{ s }}</option>\n",
    "          {% endfor %}\n",
    "        </select>\n",
    "      </div>\n",
    "      <div class=\"mb-3\">\n",
    "        <label for=\"days\" class=\"form-label\">Days into Future (0–30)</label>\n",
    "        <input type=\"number\" class=\"form-control\" id=\"days\" name=\"days\" value=\"1\" min=\"0\" max=\"30\" required>\n",
    "      </div>\n",
    "      <button type=\"submit\" class=\"btn btn-primary w-100\">Predict</button>\n",
    "    </form>\n",
    "    {% if prediction %}\n",
    "    <div class=\"alert alert-success mt-4 text-center\" role=\"alert\">\n",
    "       Predicted Price: <strong>${{ prediction }}</strong>\n",
    "    </div>\n",
    "    {% endif %}\n",
    "  </div>\n",
    "</body>\n",
    "</html>\n",
    "\"\"\"\n",
    "\n",
    "@app.route(\"/\", methods=[\"GET\", \"POST\"])\n",
    "def home():\n",
    "    prediction = None\n",
    "    stocks = [\"AAPL\", \"GOOG\", \"MSFT\", \"AMZN\", \"TSLA\"]\n",
    "    if request.method == \"POST\":\n",
    "        stock = request.form[\"stock\"]\n",
    "        days = int(request.form[\"days\"])\n",
    "        model = joblib.load(f\"../{stock}_model.pkl\")\n",
    "        future_date = datetime.date.today() + datetime.timedelta(days=days)\n",
    "        ordinal = future_date.toordinal()\n",
    "        prediction = round(model.predict([[ordinal]])[0], 2)\n",
    "    return render_template_string(TEMPLATE, prediction=prediction, stocks=stocks)\n",
    "\n",
    "if __name__ == \"__main__\":\n",
    "    app.run(host=\"0.0.0.0\", port=5000)\n"
   ]
  },
  {
   "cell_type": "code",
   "execution_count": 2,
   "id": "f250aaea-0f70-4f58-a6d7-c1a533118fe2",
   "metadata": {
    "editable": true,
    "slideshow": {
     "slide_type": ""
    },
    "tags": []
   },
   "outputs": [
    {
     "ename": "SyntaxError",
     "evalue": "invalid syntax (1567620274.py, line 1)",
     "output_type": "error",
     "traceback": [
      "\u001b[0;36m  Cell \u001b[0;32mIn[2], line 1\u001b[0;36m\u001b[0m\n\u001b[0;31m    python3 train.py\u001b[0m\n\u001b[0m            ^\u001b[0m\n\u001b[0;31mSyntaxError\u001b[0m\u001b[0;31m:\u001b[0m invalid syntax\n"
     ]
    }
   ],
   "source": [
    "python3 train.py\n",
    "\n"
   ]
  },
  {
   "cell_type": "code",
   "execution_count": 3,
   "id": "8af405b3-58dd-4fee-80f6-9df8566fcf8d",
   "metadata": {},
   "outputs": [
    {
     "ename": "SyntaxError",
     "evalue": "invalid syntax (2835908368.py, line 1)",
     "output_type": "error",
     "traceback": [
      "\u001b[0;36m  Cell \u001b[0;32mIn[3], line 1\u001b[0;36m\u001b[0m\n\u001b[0;31m    python3 train.py\u001b[0m\n\u001b[0m            ^\u001b[0m\n\u001b[0;31mSyntaxError\u001b[0m\u001b[0;31m:\u001b[0m invalid syntax\n"
     ]
    }
   ],
   "source": [
    "python3 train.py\n"
   ]
  },
  {
   "cell_type": "code",
   "execution_count": null,
   "id": "941928d1-9498-47ee-8c1c-572ad550456d",
   "metadata": {
    "editable": true,
    "slideshow": {
     "slide_type": ""
    },
    "tags": []
   },
   "outputs": [],
   "source": []
  }
 ],
 "metadata": {
  "kernelspec": {
   "display_name": "Python 3 (ipykernel)",
   "language": "python",
   "name": "python3"
  },
  "language_info": {
   "codemirror_mode": {
    "name": "ipython",
    "version": 3
   },
   "file_extension": ".py",
   "mimetype": "text/x-python",
   "name": "python",
   "nbconvert_exporter": "python",
   "pygments_lexer": "ipython3",
   "version": "3.10.18"
  }
 },
 "nbformat": 4,
 "nbformat_minor": 5
}
